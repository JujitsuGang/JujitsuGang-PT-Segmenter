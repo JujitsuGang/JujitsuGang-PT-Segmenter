
{
 "cells": [
  {
   "cell_type": "markdown",
   "id": "fed1bdd7",
   "metadata": {},
   "source": [
    "# Notebook to train segmenter model\n",
    "\n",
    "This notebook uses the previously created tokenizer and labeled data to effectively train Transformer Encoder models to segment Brazilian legal text data."
   ]
  },
  {
   "cell_type": "code",
   "execution_count": 7,
   "id": "458ccb35",
   "metadata": {
    "ExecuteTime": {
     "end_time": "2023-01-24T19:16:51.388980Z",
     "start_time": "2023-01-24T19:16:51.370039Z"
    }
   },
   "outputs": [],
   "source": [
    "import os\n",
    "\n",
    "import transformers\n",
    "import torch\n",
    "import torch.nn\n",
    "import datasets\n",
    "\n",
    "try:\n",
    "    from segmentador import *\n",
    "\n",
    "except ImportError:\n",
    "    from src import *\n",
    "\n",
    "\n",
    "import eval_model\n",
    "\n",
    "\n",
    "TRAIN_MODEL = True\n",
    "PREDICT_TEST_SET_AT_END = True\n",
    "DEBUG_RUN = False\n",
    "RESOURCE_DIR = \"..\"\n",
    "\n",
    "\n",
    "USE_FP16 = False\n",
    "DEVICE = \"cuda\"\n",
    "LOCAL_FILES_ONLY = True\n",
    "LOAD_PRETRAINED_WEIGHTS = True\n",
    "NUM_TRAIN_EPOCHS = 4\n",
    "NUM_HIDDEN_LAYERS = 2\n",
    "GRAD_ACCUMULATION_STEPS = 16\n",
    "VOCAB_SIZE = 6000\n",
    "\n",
    "\n",
    "TRAINED_MODEL_SAVE_PATH = os.path.join(\n",
    "    RESOURCE_DIR,\n",
    "    \"segmenter_model_v2\",\n",
    "    f\"{NUM_HIDDEN_LAYERS}_{VOCAB_SIZE}_layer_model\",\n",
    ")\n",
    "\n",
    "TRAINER_STATE_SAVE_PATH = os.path.join(\n",
    "    RESOURCE_DIR,\n",
    "    \"saved_trainer_states\",\n",
    "    f\"{NUM_HIDDEN_LAYERS}_{VOCAB_SIZE}_layer_model\",\n",
    ")"
   ]
  },
  {
   "cell_type": "markdown",
   "id": "607cdb21",
   "metadata": {},
   "source": [
    "# Setup model weights and labeled data"
   ]
  },
  {
   "cell_type": "code",
   "execution_count": 8,
   "id": "60d11642",
   "metadata": {
    "ExecuteTime": {
     "end_time": "2023-01-24T19:16:56.324617Z",
     "start_time": "2023-01-24T19:16:53.250194Z"
    }
   },
   "outputs": [
    {
     "name": "stderr",
     "output_type": "stream",
     "text": [
      "401 Client Error: Unauthorized for url: https://huggingface.co/segmenter_model_v2/2_6000_layer_model/resolve/main/config.json\n"
     ]
    },
    {
     "name": "stdout",
     "output_type": "stream",
     "text": [
      "We couldn't connect to 'https://huggingface.co/' to load this model and it looks like ../segmenter_model_v2/2_6000_layer_model is not the path to a directory conaining a config.json file.\n",
      "Checkout your internet connection or see how to run the library in offline mode at 'https://huggingface.co/docs/transformers/installation#offline-mode'.\n"
     ]
    },
    {
     "name": "stderr",